{
 "cells": [
  {
   "cell_type": "code",
   "execution_count": 7,
   "id": "f10c8351-a132-4df2-b7ad-877634ddbbfc",
   "metadata": {},
   "outputs": [
    {
     "name": "stdout",
     "output_type": "stream",
     "text": [
      "Images in 'C:\\Users\\DELL\\Desktop\\TRY\\Project_Files -copy2\\Project_Files -copy2\\Original_Data\\New folder' rotated and saved successfully!\n"
     ]
    }
   ],
   "source": [
    "import cv2\n",
    "import os\n",
    "import numpy as np\n",
    "def rotate_images(directory, angles):\n",
    "  \"\"\"\n",
    "  Rotates images in a directory by specified angles and saves the rotated images.\n",
    "\n",
    "  Args:\n",
    "      directory (str): Path to the directory containing the images.\n",
    "      angles (list): List of angles in degrees to rotate the images by.\n",
    "  \"\"\"\n",
    "  for filename in os.listdir(directory):\n",
    "    if filename.endswith(\".jpg\") or filename.endswith(\".png\") or filename.endswith(\".jpeg\"):\n",
    "      # Read the image\n",
    "      img = cv2.imread(os.path.join(directory, filename))\n",
    "\n",
    "      for angle in angles:\n",
    "        # Convert angle to radians\n",
    "        rad_angle = np.deg2rad(angle)\n",
    "\n",
    "        # Get image center\n",
    "        center = (img.shape[1] // 2, img.shape[0] // 2)\n",
    "\n",
    "        # Create rotation matrix\n",
    "        rotation_matrix = cv2.getRotationMatrix2D(center, angle, 1.0)\n",
    "\n",
    "        # Rotate the image\n",
    "        rotated_img = cv2.warpAffine(img, rotation_matrix, (img.shape[1], img.shape[0]))\n",
    "\n",
    "        # Save the rotated image with a suffix indicating the rotation angle\n",
    "        new_filename = os.path.splitext(filename)[0] + f\"_{angle}deg.jpg\"\n",
    "        cv2.imwrite(os.path.join(directory, new_filename), rotated_img)\n",
    "\n",
    "# Specify the directory containing the images\n",
    "image_directory = r\"C:\\Users\\DELL\\Desktop\\TRY\\Project_Files -copy2\\Project_Files -copy2\\Original_Data\\New folder\"\n",
    "\n",
    "# Define the angles for rotation\n",
    "angles = [25,50,75,100]\n",
    "\n",
    "# Call the rotate_images function\n",
    "rotate_images(image_directory, angles)\n",
    "\n",
    "print(f\"Images in '{image_directory}' rotated and saved successfully!\")\n",
    "\n"
   ]
  },
  {
   "cell_type": "code",
   "execution_count": 5,
   "id": "2d76dc02-26b8-4671-84b6-98ef2a331149",
   "metadata": {},
   "outputs": [
    {
     "name": "stdout",
     "output_type": "stream",
     "text": [
      "Images in 'C:\\Users\\DELL\\Desktop\\TRY\\Project_Files -copy2\\Project_Files -copy2\\Original_Data\\New folder' flipped and saved successfully!\n"
     ]
    }
   ],
   "source": [
    "def flip_images_horizontally(image_dir):\n",
    "  \"\"\"\n",
    "  Flips images in a directory horizontally and saves them with a prefix.\n",
    "\n",
    "  Args:\n",
    "    image_dir (str): Path to the directory containing images.\n",
    "  \"\"\"\n",
    "  for filename in os.listdir(image_dir):\n",
    "    if filename.lower().endswith(('.jpg', '.jpeg', '.png')):  # Check for image extensions (case-insensitive)\n",
    "      image_path = os.path.join(image_dir, filename)\n",
    "      image = cv2.imread(image_path)\n",
    "\n",
    "      # Flip the image horizontally\n",
    "      flipped_image = cv2.flip(image, 1)  # Flip code 1 for horizontal flip\n",
    "\n",
    "      # Create a new filename with \"_H\" prefix\n",
    "      basename, ext = os.path.splitext(filename)\n",
    "      output_filename = f\"{basename}_H{ext}\"\n",
    "\n",
    "      # Save the flipped image\n",
    "      cv2.imwrite(os.path.join(image_dir, output_filename), flipped_image)\n",
    "\n",
    "# Replace with your image directory path\n",
    "image_dir = r\"C:\\Users\\DELL\\Desktop\\TRY\\Project_Files -copy2\\Project_Files -copy2\\Original_Data\\New folder\"\n",
    "\n",
    "# Call the function to flip images\n",
    "flip_images_horizontally(image_dir)\n",
    "\n",
    "print(f\"Images in '{image_dir}' flipped and saved successfully!\")\n"
   ]
  },
  {
   "cell_type": "code",
   "execution_count": 6,
   "id": "b75fd09b-c39f-4209-991f-96cd3658d289",
   "metadata": {},
   "outputs": [
    {
     "name": "stdout",
     "output_type": "stream",
     "text": [
      "Images in 'C:\\Users\\DELL\\Desktop\\TRY\\Project_Files -copy2\\Project_Files -copy2\\Original_Data\\New folder' flipped and saved successfully!\n"
     ]
    }
   ],
   "source": [
    "def flip_images_horizontally(image_dir):\n",
    "  \"\"\"\n",
    "  Flips images in a directory horizontally and saves them with a prefix.\n",
    "\n",
    "  Args:\n",
    "    image_dir (str): Path to the directory containing images.\n",
    "  \"\"\"\n",
    "  for filename in os.listdir(image_dir):\n",
    "    if filename.lower().endswith(('.jpg', '.jpeg', '.png')):  # Check for image extensions (case-insensitive)\n",
    "      image_path = os.path.join(image_dir, filename)\n",
    "      image = cv2.imread(image_path)\n",
    "\n",
    "      # Flip the image horizontally\n",
    "      flipped_image = cv2.flip(image, 0)  # Flip code 1 for vertical flip\n",
    "\n",
    "      # Create a new filename with \"_H\" prefix\n",
    "      basename, ext = os.path.splitext(filename)\n",
    "      output_filename = f\"{basename}_V{ext}\"\n",
    "\n",
    "      # Save the flipped image\n",
    "      cv2.imwrite(os.path.join(image_dir, output_filename), flipped_image)\n",
    "\n",
    "# Replace with your image directory path\n",
    "image_dir = r\"C:\\Users\\DELL\\Desktop\\TRY\\Project_Files -copy2\\Project_Files -copy2\\Original_Data\\New folder\"\n",
    "\n",
    "# Call the function to flip images\n",
    "flip_images_horizontally(image_dir)\n",
    "\n",
    "print(f\"Images in '{image_dir}' flipped and saved successfully!\")\n"
   ]
  }
 ],
 "metadata": {
  "kernelspec": {
   "display_name": "Python 3 (ipykernel)",
   "language": "python",
   "name": "python3"
  },
  "language_info": {
   "codemirror_mode": {
    "name": "ipython",
    "version": 3
   },
   "file_extension": ".py",
   "mimetype": "text/x-python",
   "name": "python",
   "nbconvert_exporter": "python",
   "pygments_lexer": "ipython3",
   "version": "3.12.3"
  }
 },
 "nbformat": 4,
 "nbformat_minor": 5
}
